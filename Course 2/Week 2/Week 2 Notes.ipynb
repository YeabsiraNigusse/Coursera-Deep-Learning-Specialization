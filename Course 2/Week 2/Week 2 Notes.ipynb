{
  "cells": [
    {
      "cell_type": "markdown",
      "metadata": {
        "id": "view-in-github",
        "colab_type": "text"
      },
      "source": [
        "<a href=\"https://colab.research.google.com/github/YeabsiraNigusse/Coursera-Deep-Learning-Specialization/blob/main/Course%202/Week%202/Week%202%20Notes.ipynb\" target=\"_parent\"><img src=\"https://colab.research.google.com/assets/colab-badge.svg\" alt=\"Open In Colab\"/></a>"
      ]
    },
    {
      "cell_type": "markdown",
      "source": [
        "## Mini-Batch Gradient Descent\n",
        "\n",
        "- Using large dataset for better performance\n",
        "- using vecterization\n",
        "- separating the whole training set with mini training set called mini-batch\n",
        "- mini-batch works more faster than batch gradient descent\n",
        "- we run all mini-batches independently maybe repeated times.\n",
        "\n",
        "e.g if we have 5,000,000 training sets we devide them into 5000 each containg 1000 training sets."
      ],
      "metadata": {
        "id": "ugiQowUjcj97"
      },
      "id": "ugiQowUjcj97"
    },
    {
      "cell_type": "markdown",
      "source": [
        "## Exponentially Weighted Averages"
      ],
      "metadata": {
        "id": "3RzfYHi7YIyC"
      },
      "id": "3RzfYHi7YIyC"
    },
    {
      "cell_type": "code",
      "source": [],
      "metadata": {
        "id": "dhXD48H5crbD"
      },
      "id": "dhXD48H5crbD",
      "execution_count": null,
      "outputs": []
    }
  ],
  "metadata": {
    "colab": {
      "provenance": [],
      "include_colab_link": true
    }
  },
  "nbformat": 4,
  "nbformat_minor": 5
}