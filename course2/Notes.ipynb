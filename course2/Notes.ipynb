{
  "nbformat": 4,
  "nbformat_minor": 0,
  "metadata": {
    "colab": {
      "provenance": [],
      "authorship_tag": "ABX9TyP3VHBzD+ueqH7iv2wDWLG7",
      "include_colab_link": true
    },
    "kernelspec": {
      "name": "python3",
      "display_name": "Python 3"
    },
    "language_info": {
      "name": "python"
    }
  },
  "cells": [
    {
      "cell_type": "markdown",
      "metadata": {
        "id": "view-in-github",
        "colab_type": "text"
      },
      "source": [
        "<a href=\"https://colab.research.google.com/github/YeabsiraNigusse/Coursera-Deep-Learning-Specialization/blob/main/course2/Notes.ipynb\" target=\"_parent\"><img src=\"https://colab.research.google.com/assets/colab-badge.svg\" alt=\"Open In Colab\"/></a>"
      ]
    },
    {
      "cell_type": "markdown",
      "source": [
        "### Course 2 Notes"
      ],
      "metadata": {
        "id": "0jJkteGCKdQV"
      }
    },
    {
      "cell_type": "markdown",
      "source": [
        "### Main points fro the lectures\n",
        "- Deep learning is iterative process\n",
        "- we try different values for hyperparameter like Layers, learning rate, activation function and number of hidden layer.\n",
        "-separating our data into train, dev and test set with traditional ratio 60%/ 20%/ 20% or if thge dataset is big it can be 99%/ 0.5%/ 0.5% make our iterative stap faster to get a good model\n",
        "- dev set help us to evaluate different algorithms or models persormance\n",
        "- the key elements to evaluate our model as high or low variance and bias are train and dev set error.\n",
        "- `Hign Bias` means the model underfites train data set.\n",
        "- `Hign Variance` mean it underfits on our dev data set\n",
        "- we masure the train and dev set based on optimal error\n",
        "- if you have hign bias try large nural network\n",
        " if you have hign variance try more data and regularization"
      ],
      "metadata": {
        "id": "5JsfDYkgzvF6"
      }
    },
    {
      "cell_type": "code",
      "source": [],
      "metadata": {
        "id": "drIDvph_KiDy"
      },
      "execution_count": null,
      "outputs": []
    }
  ]
}