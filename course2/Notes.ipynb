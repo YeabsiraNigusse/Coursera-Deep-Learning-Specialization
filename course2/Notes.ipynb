{
  "nbformat": 4,
  "nbformat_minor": 0,
  "metadata": {
    "colab": {
      "provenance": [],
      "authorship_tag": "ABX9TyMlzkpx8XiMSvvlTl8HATn3",
      "include_colab_link": true
    },
    "kernelspec": {
      "name": "python3",
      "display_name": "Python 3"
    },
    "language_info": {
      "name": "python"
    }
  },
  "cells": [
    {
      "cell_type": "markdown",
      "metadata": {
        "id": "view-in-github",
        "colab_type": "text"
      },
      "source": [
        "<a href=\"https://colab.research.google.com/github/YeabsiraNigusse/Coursera-Deep-Learning-Specialization/blob/main/Notes.ipynb\" target=\"_parent\"><img src=\"https://colab.research.google.com/assets/colab-badge.svg\" alt=\"Open In Colab\"/></a>"
      ]
    },
    {
      "cell_type": "markdown",
      "source": [
        "### Course 2 Notes"
      ],
      "metadata": {
        "id": "0jJkteGCKdQV"
      }
    },
    {
      "cell_type": "code",
      "source": [],
      "metadata": {
        "id": "drIDvph_KiDy"
      },
      "execution_count": null,
      "outputs": []
    }
  ]
}