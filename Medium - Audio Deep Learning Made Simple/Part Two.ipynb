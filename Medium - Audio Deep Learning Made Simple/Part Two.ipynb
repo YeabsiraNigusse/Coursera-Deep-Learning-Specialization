{
 "cells": [
  {
   "cell_type": "markdown",
   "id": "9517277d-f7c9-494d-b704-629bb22cee6d",
   "metadata": {},
   "source": [
    "## Part 2 - Why Mel Spectrogram Perform Better"
   ]
  },
  {
   "cell_type": "code",
   "execution_count": null,
   "id": "dad1974c-bcaa-4212-8b39-882e4ff68abb",
   "metadata": {},
   "outputs": [],
   "source": []
  }
 ],
 "metadata": {
  "kernelspec": {
   "display_name": "Python 3 (ipykernel)",
   "language": "python",
   "name": "python3"
  },
  "language_info": {
   "codemirror_mode": {
    "name": "ipython",
    "version": 3
   },
   "file_extension": ".py",
   "mimetype": "text/x-python",
   "name": "python",
   "nbconvert_exporter": "python",
   "pygments_lexer": "ipython3",
   "version": "3.11.4"
  }
 },
 "nbformat": 4,
 "nbformat_minor": 5
}
