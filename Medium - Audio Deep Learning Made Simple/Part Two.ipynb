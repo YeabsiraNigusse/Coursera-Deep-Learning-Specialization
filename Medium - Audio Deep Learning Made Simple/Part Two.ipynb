{
  "cells": [
    {
      "cell_type": "markdown",
      "metadata": {
        "id": "view-in-github",
        "colab_type": "text"
      },
      "source": [
        "<a href=\"https://colab.research.google.com/github/YeabsiraNigusse/Coursera-Deep-Learning-Specialization/blob/main/Medium%20-%20Audio%20Deep%20Learning%20Made%20Simple/Part%20Two.ipynb\" target=\"_parent\"><img src=\"https://colab.research.google.com/assets/colab-badge.svg\" alt=\"Open In Colab\"/></a>"
      ]
    },
    {
      "cell_type": "markdown",
      "id": "9517277d-f7c9-494d-b704-629bb22cee6d",
      "metadata": {
        "id": "9517277d-f7c9-494d-b704-629bb22cee6d"
      },
      "source": [
        "## Part 2 - Why Mel Spectrogram Perform Better"
      ]
    },
    {
      "cell_type": "code",
      "execution_count": null,
      "id": "dad1974c-bcaa-4212-8b39-882e4ff68abb",
      "metadata": {
        "id": "dad1974c-bcaa-4212-8b39-882e4ff68abb"
      },
      "outputs": [],
      "source": []
    }
  ],
  "metadata": {
    "kernelspec": {
      "display_name": "Python 3 (ipykernel)",
      "language": "python",
      "name": "python3"
    },
    "language_info": {
      "codemirror_mode": {
        "name": "ipython",
        "version": 3
      },
      "file_extension": ".py",
      "mimetype": "text/x-python",
      "name": "python",
      "nbconvert_exporter": "python",
      "pygments_lexer": "ipython3",
      "version": "3.11.4"
    },
    "colab": {
      "provenance": [],
      "include_colab_link": true
    }
  },
  "nbformat": 4,
  "nbformat_minor": 5
}