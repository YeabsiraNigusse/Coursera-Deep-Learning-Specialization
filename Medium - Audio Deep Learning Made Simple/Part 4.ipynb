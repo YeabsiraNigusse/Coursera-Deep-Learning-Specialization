{
  "cells": [
    {
      "cell_type": "markdown",
      "metadata": {
        "id": "view-in-github",
        "colab_type": "text"
      },
      "source": [
        "<a href=\"https://colab.research.google.com/github/YeabsiraNigusse/Coursera-Deep-Learning-Specialization/blob/main/Medium%20-%20Audio%20Deep%20Learning%20Made%20Simple/Part%204.ipynb\" target=\"_parent\"><img src=\"https://colab.research.google.com/assets/colab-badge.svg\" alt=\"Open In Colab\"/></a>"
      ]
    },
    {
      "cell_type": "markdown",
      "source": [
        "# Sound Classification, Step-by-Step Guid"
      ],
      "metadata": {
        "id": "cX2iqx2Um-D5"
      },
      "id": "cX2iqx2Um-D5"
    },
    {
      "cell_type": "code",
      "source": [],
      "metadata": {
        "id": "lckQOXJEnGEn"
      },
      "id": "lckQOXJEnGEn",
      "execution_count": null,
      "outputs": []
    }
  ],
  "metadata": {
    "colab": {
      "provenance": [],
      "include_colab_link": true
    }
  },
  "nbformat": 4,
  "nbformat_minor": 5
}