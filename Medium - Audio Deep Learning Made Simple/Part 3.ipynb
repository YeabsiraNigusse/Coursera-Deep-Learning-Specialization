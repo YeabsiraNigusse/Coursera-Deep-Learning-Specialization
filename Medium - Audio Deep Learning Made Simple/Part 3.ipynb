{
  "cells": [
    {
      "cell_type": "markdown",
      "metadata": {
        "id": "view-in-github",
        "colab_type": "text"
      },
      "source": [
        "<a href=\"https://colab.research.google.com/github/YeabsiraNigusse/Coursera-Deep-Learning-Specialization/blob/main/Medium%20-%20Audio%20Deep%20Learning%20Made%20Simple/Part%203.ipynb\" target=\"_parent\"><img src=\"https://colab.research.google.com/assets/colab-badge.svg\" alt=\"Open In Colab\"/></a>"
      ]
    },
    {
      "cell_type": "markdown",
      "source": [
        "# Data Preparation and Data Augmentation"
      ],
      "metadata": {
        "id": "4MbfvpUzmERp"
      },
      "id": "4MbfvpUzmERp"
    },
    {
      "cell_type": "code",
      "source": [],
      "metadata": {
        "id": "t2bI69x4mRwJ"
      },
      "id": "t2bI69x4mRwJ",
      "execution_count": null,
      "outputs": []
    }
  ],
  "metadata": {
    "colab": {
      "provenance": [],
      "include_colab_link": true
    }
  },
  "nbformat": 4,
  "nbformat_minor": 5
}