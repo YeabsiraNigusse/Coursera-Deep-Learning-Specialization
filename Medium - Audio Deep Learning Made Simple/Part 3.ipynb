{
 "cells": [
  {
   "cell_type": "markdown",
   "id": "7d7a0e9f-9948-4c5f-81f0-8331535a81af",
   "metadata": {},
   "source": [
    "# Data Preparation and Augmentation"
   ]
  },
  {
   "cell_type": "code",
   "execution_count": null,
   "id": "8193435e-6a92-4ee5-b097-00ee180f1864",
   "metadata": {},
   "outputs": [],
   "source": []
  }
 ],
 "metadata": {
  "kernelspec": {
   "display_name": "Python 3 (ipykernel)",
   "language": "python",
   "name": "python3"
  },
  "language_info": {
   "codemirror_mode": {
    "name": "ipython",
    "version": 3
   },
   "file_extension": ".py",
   "mimetype": "text/x-python",
   "name": "python",
   "nbconvert_exporter": "python",
   "pygments_lexer": "ipython3",
   "version": "3.11.4"
  }
 },
 "nbformat": 4,
 "nbformat_minor": 5
}
