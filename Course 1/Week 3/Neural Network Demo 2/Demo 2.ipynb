{
  "cells": [
    {
      "cell_type": "markdown",
      "metadata": {
        "id": "view-in-github",
        "colab_type": "text"
      },
      "source": [
        "<a href=\"https://colab.research.google.com/github/YeabsiraNigusse/Coursera-Deep-Learning-Specialization/blob/main/Course%201/Neural%20Network%20Demo%202/Demo%202.ipynb\" target=\"_parent\"><img src=\"https://colab.research.google.com/assets/colab-badge.svg\" alt=\"Open In Colab\"/></a>"
      ]
    },
    {
      "cell_type": "markdown",
      "id": "8097db51-d012-4d14-b695-21b16d42ac3e",
      "metadata": {
        "id": "8097db51-d012-4d14-b695-21b16d42ac3e"
      },
      "source": [
        "# Planar data classification with Two hidden layer\n",
        "\n",
        "### Upload all the Nucessary Data and Libreries"
      ]
    },
    {
      "cell_type": "code",
      "execution_count": 44,
      "id": "2a5cf722-0b2d-423b-aa89-bbcd4b1792de",
      "metadata": {
        "id": "2a5cf722-0b2d-423b-aa89-bbcd4b1792de",
        "outputId": "3ca19ddb-c720-42d8-98e7-8d634d2cc896",
        "colab": {
          "base_uri": "https://localhost:8080/",
          "height": 38
        }
      },
      "outputs": [
        {
          "output_type": "display_data",
          "data": {
            "text/plain": [
              "<IPython.core.display.HTML object>"
            ],
            "text/html": [
              "\n",
              "     <input type=\"file\" id=\"files-69dabc99-5f4a-4c4e-a8bf-a14ed5497350\" name=\"files[]\" multiple disabled\n",
              "        style=\"border:none\" />\n",
              "     <output id=\"result-69dabc99-5f4a-4c4e-a8bf-a14ed5497350\">\n",
              "      Upload widget is only available when the cell has been executed in the\n",
              "      current browser session. Please rerun this cell to enable.\n",
              "      </output>\n",
              "      <script>// Copyright 2017 Google LLC\n",
              "//\n",
              "// Licensed under the Apache License, Version 2.0 (the \"License\");\n",
              "// you may not use this file except in compliance with the License.\n",
              "// You may obtain a copy of the License at\n",
              "//\n",
              "//      http://www.apache.org/licenses/LICENSE-2.0\n",
              "//\n",
              "// Unless required by applicable law or agreed to in writing, software\n",
              "// distributed under the License is distributed on an \"AS IS\" BASIS,\n",
              "// WITHOUT WARRANTIES OR CONDITIONS OF ANY KIND, either express or implied.\n",
              "// See the License for the specific language governing permissions and\n",
              "// limitations under the License.\n",
              "\n",
              "/**\n",
              " * @fileoverview Helpers for google.colab Python module.\n",
              " */\n",
              "(function(scope) {\n",
              "function span(text, styleAttributes = {}) {\n",
              "  const element = document.createElement('span');\n",
              "  element.textContent = text;\n",
              "  for (const key of Object.keys(styleAttributes)) {\n",
              "    element.style[key] = styleAttributes[key];\n",
              "  }\n",
              "  return element;\n",
              "}\n",
              "\n",
              "// Max number of bytes which will be uploaded at a time.\n",
              "const MAX_PAYLOAD_SIZE = 100 * 1024;\n",
              "\n",
              "function _uploadFiles(inputId, outputId) {\n",
              "  const steps = uploadFilesStep(inputId, outputId);\n",
              "  const outputElement = document.getElementById(outputId);\n",
              "  // Cache steps on the outputElement to make it available for the next call\n",
              "  // to uploadFilesContinue from Python.\n",
              "  outputElement.steps = steps;\n",
              "\n",
              "  return _uploadFilesContinue(outputId);\n",
              "}\n",
              "\n",
              "// This is roughly an async generator (not supported in the browser yet),\n",
              "// where there are multiple asynchronous steps and the Python side is going\n",
              "// to poll for completion of each step.\n",
              "// This uses a Promise to block the python side on completion of each step,\n",
              "// then passes the result of the previous step as the input to the next step.\n",
              "function _uploadFilesContinue(outputId) {\n",
              "  const outputElement = document.getElementById(outputId);\n",
              "  const steps = outputElement.steps;\n",
              "\n",
              "  const next = steps.next(outputElement.lastPromiseValue);\n",
              "  return Promise.resolve(next.value.promise).then((value) => {\n",
              "    // Cache the last promise value to make it available to the next\n",
              "    // step of the generator.\n",
              "    outputElement.lastPromiseValue = value;\n",
              "    return next.value.response;\n",
              "  });\n",
              "}\n",
              "\n",
              "/**\n",
              " * Generator function which is called between each async step of the upload\n",
              " * process.\n",
              " * @param {string} inputId Element ID of the input file picker element.\n",
              " * @param {string} outputId Element ID of the output display.\n",
              " * @return {!Iterable<!Object>} Iterable of next steps.\n",
              " */\n",
              "function* uploadFilesStep(inputId, outputId) {\n",
              "  const inputElement = document.getElementById(inputId);\n",
              "  inputElement.disabled = false;\n",
              "\n",
              "  const outputElement = document.getElementById(outputId);\n",
              "  outputElement.innerHTML = '';\n",
              "\n",
              "  const pickedPromise = new Promise((resolve) => {\n",
              "    inputElement.addEventListener('change', (e) => {\n",
              "      resolve(e.target.files);\n",
              "    });\n",
              "  });\n",
              "\n",
              "  const cancel = document.createElement('button');\n",
              "  inputElement.parentElement.appendChild(cancel);\n",
              "  cancel.textContent = 'Cancel upload';\n",
              "  const cancelPromise = new Promise((resolve) => {\n",
              "    cancel.onclick = () => {\n",
              "      resolve(null);\n",
              "    };\n",
              "  });\n",
              "\n",
              "  // Wait for the user to pick the files.\n",
              "  const files = yield {\n",
              "    promise: Promise.race([pickedPromise, cancelPromise]),\n",
              "    response: {\n",
              "      action: 'starting',\n",
              "    }\n",
              "  };\n",
              "\n",
              "  cancel.remove();\n",
              "\n",
              "  // Disable the input element since further picks are not allowed.\n",
              "  inputElement.disabled = true;\n",
              "\n",
              "  if (!files) {\n",
              "    return {\n",
              "      response: {\n",
              "        action: 'complete',\n",
              "      }\n",
              "    };\n",
              "  }\n",
              "\n",
              "  for (const file of files) {\n",
              "    const li = document.createElement('li');\n",
              "    li.append(span(file.name, {fontWeight: 'bold'}));\n",
              "    li.append(span(\n",
              "        `(${file.type || 'n/a'}) - ${file.size} bytes, ` +\n",
              "        `last modified: ${\n",
              "            file.lastModifiedDate ? file.lastModifiedDate.toLocaleDateString() :\n",
              "                                    'n/a'} - `));\n",
              "    const percent = span('0% done');\n",
              "    li.appendChild(percent);\n",
              "\n",
              "    outputElement.appendChild(li);\n",
              "\n",
              "    const fileDataPromise = new Promise((resolve) => {\n",
              "      const reader = new FileReader();\n",
              "      reader.onload = (e) => {\n",
              "        resolve(e.target.result);\n",
              "      };\n",
              "      reader.readAsArrayBuffer(file);\n",
              "    });\n",
              "    // Wait for the data to be ready.\n",
              "    let fileData = yield {\n",
              "      promise: fileDataPromise,\n",
              "      response: {\n",
              "        action: 'continue',\n",
              "      }\n",
              "    };\n",
              "\n",
              "    // Use a chunked sending to avoid message size limits. See b/62115660.\n",
              "    let position = 0;\n",
              "    do {\n",
              "      const length = Math.min(fileData.byteLength - position, MAX_PAYLOAD_SIZE);\n",
              "      const chunk = new Uint8Array(fileData, position, length);\n",
              "      position += length;\n",
              "\n",
              "      const base64 = btoa(String.fromCharCode.apply(null, chunk));\n",
              "      yield {\n",
              "        response: {\n",
              "          action: 'append',\n",
              "          file: file.name,\n",
              "          data: base64,\n",
              "        },\n",
              "      };\n",
              "\n",
              "      let percentDone = fileData.byteLength === 0 ?\n",
              "          100 :\n",
              "          Math.round((position / fileData.byteLength) * 100);\n",
              "      percent.textContent = `${percentDone}% done`;\n",
              "\n",
              "    } while (position < fileData.byteLength);\n",
              "  }\n",
              "\n",
              "  // All done.\n",
              "  yield {\n",
              "    response: {\n",
              "      action: 'complete',\n",
              "    }\n",
              "  };\n",
              "}\n",
              "\n",
              "scope.google = scope.google || {};\n",
              "scope.google.colab = scope.google.colab || {};\n",
              "scope.google.colab._files = {\n",
              "  _uploadFiles,\n",
              "  _uploadFilesContinue,\n",
              "};\n",
              "})(self);\n",
              "</script> "
            ]
          },
          "metadata": {}
        }
      ],
      "source": [
        "from google.colab import files\n",
        "upload = files.upload()"
      ]
    },
    {
      "cell_type": "code",
      "source": [
        "!pip install numpy pillow matplotlib scikit-learn"
      ],
      "metadata": {
        "id": "pPqVVi_YpT-F"
      },
      "id": "pPqVVi_YpT-F",
      "execution_count": null,
      "outputs": []
    },
    {
      "cell_type": "code",
      "source": [
        "X, Y = load_planar_dataset()"
      ],
      "metadata": {
        "id": "b1yW23hP4xQO"
      },
      "id": "b1yW23hP4xQO",
      "execution_count": 46,
      "outputs": []
    },
    {
      "cell_type": "code",
      "source": [
        "import numpy as np\n",
        "import copy\n",
        "import matplotlib.pyplot as plt\n",
        "from testCases_v2 import *\n",
        "from public_tests import *\n",
        "import sklearn\n",
        "import sklearn.datasets\n",
        "import sklearn.linear_model\n",
        "from planar_utils import plot_decision_boundary, sigmoid, load_planar_dataset, load_extra_datasets\n"
      ],
      "metadata": {
        "id": "bj9Tb0wZpaNM"
      },
      "id": "bj9Tb0wZpaNM",
      "execution_count": 47,
      "outputs": []
    },
    {
      "cell_type": "markdown",
      "source": [
        "## Defining The Structure of the Nural Network"
      ],
      "metadata": {
        "id": "rjEbYBUcpftB"
      },
      "id": "rjEbYBUcpftB"
    },
    {
      "cell_type": "code",
      "source": [
        "def layer_sizes(X, Y):\n",
        "    \"\"\"\n",
        "    Arguments:\n",
        "    X -- input dataset of shape (input size, number of examples)\n",
        "    Y -- labels of shape (output size, number of examples)\n",
        "\n",
        "    Returns:\n",
        "    n_x -- the size of the input layer\n",
        "    n_h1 -- the size of the first hidden layer\n",
        "    n_h2 -- the size of the second hidden layer\n",
        "    n_y -- the size of the output layer\n",
        "    \"\"\"\n",
        "    #(≈ 3 lines of code)\n",
        "    # n_x = ...\n",
        "    # n_h1 = ...\n",
        "    # n_h2 = ...\n",
        "    # n_y = ...\n",
        "    # YOUR CODE STARTS HERE\n",
        "    n_x = X.shape[0]\n",
        "    n_h1 = 4\n",
        "    n_h2 = 3\n",
        "    n_y = Y.shape[0]\n",
        "\n",
        "    # YOUR CODE ENDS HERE\n",
        "    return (n_x, n_h1, n_h2, n_y)"
      ],
      "metadata": {
        "id": "0I2CLQxNpyN_"
      },
      "id": "0I2CLQxNpyN_",
      "execution_count": 48,
      "outputs": []
    },
    {
      "cell_type": "markdown",
      "source": [
        "## Initialize Model Parameter"
      ],
      "metadata": {
        "id": "qwG8yvEMsNGx"
      },
      "id": "qwG8yvEMsNGx"
    },
    {
      "cell_type": "code",
      "source": [
        "def initialize_parameters(n_x, n_h1, n_h2, n_y):\n",
        "    \"\"\"\n",
        "    Argument:\n",
        "    n_x -- size of the input layer\n",
        "    n_h1 -- size of the first hidden layer\n",
        "    n_h2 -- size of the second hidden layer\n",
        "    n_y -- size of the output layer\n",
        "\n",
        "    Returns:\n",
        "    params -- python dictionary containing your parameters:\n",
        "                    W1 -- weight matrix of shape (n_h1, n_x)\n",
        "                    b1 -- bias vector of shape (n_h1, 1)\n",
        "                    W2 -- weight matrix of shape (n_h2, n_h1)\n",
        "                    b2 -- bias vector of shape (n_h2, 1)\n",
        "                    W3 -- weight matrix of shape(n_y, n_h2)\n",
        "                    b3 -- weight matrix of shape(n_y, 1)\n",
        "    \"\"\"\n",
        "    #(≈ 4 lines of code)\n",
        "    # W1 = ...\n",
        "    # b1 = ...\n",
        "    # W2 = ...\n",
        "    # b2 = ...\n",
        "    # YOUR CODE STARTS HERE\n",
        "    W1 = np.random.randn(n_h1, n_x) * 0.01\n",
        "    b1 = np.zeros((n_h1, 1))\n",
        "    W2 = np.random.randn(n_h2, n_h1) * 0.01\n",
        "    b2 = np.zeros((n_h2, 1))\n",
        "    W3 = np.random.randn(n_y, n_h2)\n",
        "    b3 = np.zeros((n_y, 1))\n",
        "\n",
        "    # YOUR CODE ENDS HERE\n",
        "\n",
        "    parameters = {\"W1\": W1,\n",
        "                  \"b1\": b1,\n",
        "                  \"W2\": W2,\n",
        "                  \"b2\": b2,\n",
        "                  \"W3\": W3,\n",
        "                  \"b3\": b3}\n",
        "\n",
        "    return parameters"
      ],
      "metadata": {
        "id": "bPljD4TisJ_e"
      },
      "id": "bPljD4TisJ_e",
      "execution_count": 49,
      "outputs": []
    },
    {
      "cell_type": "markdown",
      "source": [
        "## Forward Propagation"
      ],
      "metadata": {
        "id": "HQXhc4FyuowI"
      },
      "id": "HQXhc4FyuowI"
    },
    {
      "cell_type": "code",
      "source": [
        "def forward_propagation(X, parameters):\n",
        "    \"\"\"\n",
        "    Argument:\n",
        "    X -- input data of size (n_x, m)\n",
        "    parameters -- python dictionary containing your parameters (output of initialization function)\n",
        "\n",
        "    Returns:\n",
        "    A3 -- The sigmoid output of the third activation\n",
        "    cache -- a dictionary containing \"Z1\", \"A1\", \"Z2\" , \"A2\", \"Z3\" and \"A3\"\n",
        "    \"\"\"\n",
        "    # Retrieve each parameter from the dictionary \"parameters\"\n",
        "    #(≈ 4 lines of code)\n",
        "    # W1 = ...\n",
        "    # b1 = ...\n",
        "    # W2 = ...\n",
        "    # b2 = ...\n",
        "    # YOUR CODE STARTS HERE\n",
        "    W1 = parameters['W1']\n",
        "    b1 = parameters['b1']\n",
        "    W2 = parameters['W2']\n",
        "    b2 = parameters['b2']\n",
        "    W3 = parameters['W3']\n",
        "    b3 = parameters['b3']\n",
        "\n",
        "    # YOUR CODE ENDS HERE\n",
        "\n",
        "    # Implement Forward Propagation to calculate A2 (probabilities)\n",
        "    # (≈ 4 lines of code)\n",
        "    # Z1 = ...\n",
        "    # A1 = ...\n",
        "    # Z2 = ...\n",
        "    # A2 = ...\n",
        "    # YOUR CODE STARTS HERE\n",
        "    Z1 = np.dot(W1, X) + b1\n",
        "    A1 = np.tanh(Z1)\n",
        "    Z2 = np.dot(W2, A1) + b2\n",
        "    A2 = np.tanh(Z2)\n",
        "    Z3 = np.dot(W3, A2) + b3\n",
        "    A3 = sigmoid(Z3)\n",
        "\n",
        "    # YOUR CODE ENDS HERE\n",
        "\n",
        "    assert(A3.shape == (1, X.shape[1]))\n",
        "\n",
        "    cache = {\"Z1\": Z1,\n",
        "             \"A1\": A1,\n",
        "             \"Z2\": Z2,\n",
        "             \"A2\": A2,\n",
        "             \"Z3\": Z3,\n",
        "             \"A3\": A3}\n",
        "\n",
        "    return A3, cache"
      ],
      "metadata": {
        "id": "M2Ba_wETudg2"
      },
      "id": "M2Ba_wETudg2",
      "execution_count": 50,
      "outputs": []
    },
    {
      "cell_type": "markdown",
      "source": [
        "### Compute the Cost\n",
        "\n",
        "Now that you've computed $A^{[2]}$ (in the Python variable \"`A2`\"), which contains $a^{[2](i)}$ for all examples, you can compute the cost function as follows:\n",
        "\n",
        "$$J = - \\frac{1}{m} \\sum\\limits_{i = 1}^{m} \\large{(} \\small y^{(i)}\\log\\left(a^{[2] (i)}\\right) + (1-y^{(i)})\\log\\left(1- a^{[2] (i)}\\right) \\large{)} \\small\\tag{13}$$"
      ],
      "metadata": {
        "id": "nJAlW9Plv_RD"
      },
      "id": "nJAlW9Plv_RD"
    },
    {
      "cell_type": "code",
      "source": [
        "def compute_cost(A3, Y):\n",
        "    \"\"\"\n",
        "    Computes the cross-entropy cost given in equation (13)\n",
        "\n",
        "    Arguments:\n",
        "    A3 -- The sigmoid output of the third activation, of shape (1, number of examples)\n",
        "    Y -- \"true\" labels vector of shape (1, number of examples)\n",
        "\n",
        "    Returns:\n",
        "    cost -- cross-entropy cost given equation (13)\n",
        "\n",
        "    \"\"\"\n",
        "\n",
        "    m = Y.shape[1] # number of examples\n",
        "\n",
        "    # Compute the cross-entropy cost\n",
        "    # (≈ 2 lines of code)\n",
        "    # logprobs = ...\n",
        "    # cost = ...\n",
        "    # YOUR CODE STARTS HERE\n",
        "    logprobs = np.multiply(np.log(A3), Y) + np.multiply(np.log(1 - A3), 1 - Y)\n",
        "    cost = -np.sum(logprobs) / m\n",
        "\n",
        "    # YOUR CODE ENDS HERE\n",
        "\n",
        "    cost = float(np.squeeze(cost))  # makes sure cost is the dimension we expect.\n",
        "                                    # E.g., turns [[17]] into 17\n",
        "\n",
        "    return cost"
      ],
      "metadata": {
        "id": "VvXiw6qZv_3k"
      },
      "id": "VvXiw6qZv_3k",
      "execution_count": 51,
      "outputs": []
    },
    {
      "cell_type": "markdown",
      "source": [
        "### Implement Backpropagation\n",
        "\n",
        "Using the cache computed during forward propagation, you can now implement backward propagation.\n"
      ],
      "metadata": {
        "id": "2hWV3UdMwYck"
      },
      "id": "2hWV3UdMwYck"
    },
    {
      "cell_type": "code",
      "source": [
        "def backward_propagation(parameters, cache, X, Y):\n",
        "    \"\"\"\n",
        "    Implement the backward propagation using the instructions above.\n",
        "\n",
        "    Arguments:\n",
        "    parameters -- python dictionary containing our parameters\n",
        "    cache -- a dictionary containing \"Z1\", \"A1\", \"Z2\" and \"A2\".\n",
        "    X -- input data of shape (2, number of examples)\n",
        "    Y -- \"true\" labels vector of shape (1, number of examples)\n",
        "\n",
        "    Returns:\n",
        "    grads -- python dictionary containing your gradients with respect to different parameters\n",
        "    \"\"\"\n",
        "    m = X.shape[1]\n",
        "\n",
        "    # First, retrieve W1 and W2 from the dictionary \"parameters\".\n",
        "    #(≈ 2 lines of code)\n",
        "    # W1 = ...\n",
        "    # W2 = ...\n",
        "    # YOUR CODE STARTS HERE\n",
        "    W1 = parameters['W1']\n",
        "    W2 = parameters['W2']\n",
        "    W3 = parameters[\"W3\"]\n",
        "\n",
        "    # YOUR CODE ENDS HERE\n",
        "\n",
        "    # Retrieve also A1 and A2 from dictionary \"cache\".\n",
        "    #(≈ 2 lines of code)\n",
        "    # A1 = ...\n",
        "    # A2 = ...\n",
        "    # YOUR CODE STARTS HERE\n",
        "    A1 = cache['A1']\n",
        "    A2 = cache['A2']\n",
        "    A3 = cache['A3']\n",
        "\n",
        "    # YOUR CODE ENDS HERE\n",
        "\n",
        "    # Backward propagation: calculate dW1, db1, dW2, db2.\n",
        "    #(≈ 6 lines of code, corresponding to 6 equations on slide above)\n",
        "    # dZ2 = ...\n",
        "    # dW2 = ...\n",
        "    # db2 = ...\n",
        "    # dZ1 = ...\n",
        "    # dW1 = ...\n",
        "    # db1 = ...\n",
        "    # YOUR CODE STARTS HERE\n",
        "    dZ3 = A3 - Y\n",
        "    dW3 = np.dot(dZ3, A2.T) / m\n",
        "    db3 = np.sum(dZ3, axis=1, keepdims=True) / m\n",
        "    dZ2 = np.dot(W3.T, dZ3) * (1 - np.power(A2, 2))\n",
        "    dW2 = np.dot(dZ2, A1.T) / m\n",
        "    db2 = np.sum(dZ2, axis=1, keepdims=True) / m\n",
        "    dZ1 = np.dot(W2.T, dZ2) * (1 - np.power(A1, 2))\n",
        "    dW1 = np.dot(dZ1, X.T) / m\n",
        "    db1 = np.sum(dZ1, axis=1, keepdims=True) / m\n",
        "\n",
        "    # YOUR CODE ENDS HERE\n",
        "\n",
        "    grads = {\"dW1\": dW1,\n",
        "             \"db1\": db1,\n",
        "             \"dW2\": dW2,\n",
        "             \"db2\": db2,\n",
        "             \"dW3\": dW3,\n",
        "             \"db3\": db3}\n",
        "\n",
        "    return grads"
      ],
      "metadata": {
        "id": "CAcNrOlXwS2z"
      },
      "id": "CAcNrOlXwS2z",
      "execution_count": 57,
      "outputs": []
    },
    {
      "cell_type": "markdown",
      "source": [
        "## Update the parameters"
      ],
      "metadata": {
        "id": "LgJOUdGj0lLG"
      },
      "id": "LgJOUdGj0lLG"
    },
    {
      "cell_type": "code",
      "source": [
        "def update_parameters(parameters, grads, learning_rate = 1.2):\n",
        "    \"\"\"\n",
        "    Updates parameters using the gradient descent update rule given above\n",
        "\n",
        "    Arguments:\n",
        "    parameters -- python dictionary containing your parameters\n",
        "    grads -- python dictionary containing your gradients\n",
        "\n",
        "    Returns:\n",
        "    parameters -- python dictionary containing your updated parameters\n",
        "    \"\"\"\n",
        "    # Retrieve a copy of each parameter from the dictionary \"parameters\". Use copy.deepcopy(...) for W1 and W2\n",
        "    #(≈ 4 lines of code)\n",
        "    # W1 = ...\n",
        "    # b1 = ...\n",
        "    # W2 = ...\n",
        "    # b2 = ...\n",
        "    # YOUR CODE STARTS HERE\n",
        "    W1 = parameters['W1']\n",
        "    b1 = parameters['b1']\n",
        "    W2 = parameters['W2']\n",
        "    b2 = parameters['b2']\n",
        "    W3 = parameters['W3']\n",
        "    b3 = parameters['b3']\n",
        "\n",
        "    # YOUR CODE ENDS HERE\n",
        "\n",
        "    # Retrieve each gradient from the dictionary \"grads\"\n",
        "    #(≈ 4 lines of code)\n",
        "    # dW1 = ...\n",
        "    # db1 = ...\n",
        "    # dW2 = ...\n",
        "    # db2 = ...\n",
        "    # YOUR CODE STARTS HERE\n",
        "    dW1 = grads['dW1']\n",
        "    db1 = grads['db1']\n",
        "    dW2 = grads['dW2']\n",
        "    db2 = grads['db2']\n",
        "    dW3 = grads['dW3']\n",
        "    db3 = grads['db3']\n",
        "\n",
        "    # YOUR CODE ENDS HERE\n",
        "\n",
        "    # Update rule for each parameter\n",
        "    #(≈ 4 lines of code)\n",
        "    # W1 = ...\n",
        "    # b1 = ...\n",
        "    # W2 = ...\n",
        "    # b2 = ...\n",
        "    # YOUR CODE STARTS HERE\n",
        "    W1 = W1 - learning_rate * dW1\n",
        "    b1 = b1 - learning_rate * db1\n",
        "    W2 = W2 - learning_rate * dW2\n",
        "    b2 = b2 - learning_rate * db2\n",
        "    W3 = W3 - learning_rate * dW3\n",
        "    b3 = b3 - learning_rate * db3\n",
        "\n",
        "    # YOUR CODE ENDS HERE\n",
        "\n",
        "    parameters = {\"W1\": W1,\n",
        "                  \"b1\": b1,\n",
        "                  \"W2\": W2,\n",
        "                  \"b2\": b2,\n",
        "                  \"W3\": W3,\n",
        "                  \"b3\": b3}\n",
        "\n",
        "    return parameters"
      ],
      "metadata": {
        "id": "3Knz0wnl0e3l"
      },
      "id": "3Knz0wnl0e3l",
      "execution_count": 58,
      "outputs": []
    },
    {
      "cell_type": "markdown",
      "source": [
        "## Integrate"
      ],
      "metadata": {
        "id": "wcLzkZ3v3KtG"
      },
      "id": "wcLzkZ3v3KtG"
    },
    {
      "cell_type": "code",
      "source": [
        "def nn_model(X, Y, n_h1, n_h2, num_iterations = 10000, print_cost=False):\n",
        "    \"\"\"\n",
        "    Arguments:\n",
        "    X -- dataset of shape (2, number of examples)\n",
        "    Y -- labels of shape (1, number of examples)\n",
        "    n_h -- size of the hidden layer\n",
        "    num_iterations -- Number of iterations in gradient descent loop\n",
        "    print_cost -- if True, print the cost every 1000 iterations\n",
        "\n",
        "    Returns:\n",
        "    parameters -- parameters learnt by the model. They can then be used to predict.\n",
        "    \"\"\"\n",
        "\n",
        "    np.random.seed(3)\n",
        "    n_x = layer_sizes(X, Y)[0]\n",
        "    n_y = layer_sizes(X, Y)[3]\n",
        "\n",
        "    # Initialize parameters\n",
        "    #(≈ 1 line of code)\n",
        "    # parameters = ...\n",
        "    # YOUR CODE STARTS HERE\n",
        "    parameters = initialize_parameters(n_x, n_h1, n_h2, n_y)\n",
        "    # YOUR CODE ENDS HERE\n",
        "\n",
        "    # Loop (gradient descent)\n",
        "\n",
        "    for i in range(0, num_iterations):\n",
        "\n",
        "        #(≈ 4 lines of code)\n",
        "        # Forward propagation. Inputs: \"X, parameters\". Outputs: \"A2, cache\".\n",
        "        # A2, cache = ...\n",
        "\n",
        "        # Cost function. Inputs: \"A2, Y\". Outputs: \"cost\".\n",
        "        # cost = ...\n",
        "\n",
        "        # Backpropagation. Inputs: \"parameters, cache, X, Y\". Outputs: \"grads\".\n",
        "        # grads = ...\n",
        "\n",
        "        # Gradient descent parameter update. Inputs: \"parameters, grads\". Outputs: \"parameters\".\n",
        "        # parameters = ...\n",
        "\n",
        "        # YOUR CODE STARTS HERE\n",
        "        A3, cache = forward_propagation(X, parameters)\n",
        "        cost = compute_cost(A3, Y)\n",
        "        grads = backward_propagation(parameters, cache, X, Y)\n",
        "        parameters = update_parameters(parameters, grads)\n",
        "        # YOUR CODE ENDS HERE\n",
        "\n",
        "        # Print the cost every 1000 iterations\n",
        "        if print_cost and i % 1000 == 0:\n",
        "            print (\"Cost after iteration %i: %f\" %(i, cost))\n",
        "\n",
        "    return parameters"
      ],
      "metadata": {
        "id": "EHTiukwu0-O2"
      },
      "id": "EHTiukwu0-O2",
      "execution_count": 59,
      "outputs": []
    },
    {
      "cell_type": "markdown",
      "source": [
        "# Test the Model"
      ],
      "metadata": {
        "id": "OSRS4bEk4EIg"
      },
      "id": "OSRS4bEk4EIg"
    },
    {
      "cell_type": "code",
      "source": [
        "def predict(parameters, X):\n",
        "    \"\"\"\n",
        "    Using the learned parameters, predicts a class for each example in X\n",
        "\n",
        "    Arguments:\n",
        "    parameters -- python dictionary containing your parameters\n",
        "    X -- input data of size (n_x, m)\n",
        "\n",
        "    Returns\n",
        "    predictions -- vector of predictions of our model (red: 0 / blue: 1)\n",
        "    \"\"\"\n",
        "\n",
        "    # Computes probabilities using forward propagation, and classifies to 0/1 using 0.5 as the threshold.\n",
        "    #(≈ 2 lines of code)\n",
        "    # A2, cache = ...\n",
        "    # predictions = ...\n",
        "    # YOUR CODE STARTS HERE\n",
        "    A3, cache = forward_propagation(X, parameters)\n",
        "    predictions = (A3 > 0.5)\n",
        "    # YOUR CODE ENDS HERE\n",
        "\n",
        "    return predictions"
      ],
      "metadata": {
        "id": "ALHdnfYD37K_"
      },
      "id": "ALHdnfYD37K_",
      "execution_count": 60,
      "outputs": []
    },
    {
      "cell_type": "code",
      "source": [
        "# Build a model with a n_h-dimensional hidden layer\n",
        "parameters = nn_model(X, Y, n_h1 = 5, n_h2 = 4, num_iterations = 10000, print_cost=True)\n",
        "\n",
        "# Plot the decision boundary\n",
        "plot_decision_boundary(lambda x: predict(parameters, x.T), X, Y)\n",
        "plt.title(\"Decision Boundary for hidden layer size \" + str(4))"
      ],
      "metadata": {
        "id": "7i3tug0B4SzJ",
        "outputId": "5b1b5091-f498-4996-b447-0b5f0ae78443",
        "colab": {
          "base_uri": "https://localhost:8080/",
          "height": 663
        }
      },
      "id": "7i3tug0B4SzJ",
      "execution_count": 63,
      "outputs": [
        {
          "output_type": "stream",
          "name": "stdout",
          "text": [
            "Cost after iteration 0: 0.693160\n",
            "Cost after iteration 1000: 0.258175\n",
            "Cost after iteration 2000: 0.242040\n",
            "Cost after iteration 3000: 0.244407\n",
            "Cost after iteration 4000: 0.211427\n",
            "Cost after iteration 5000: 0.176996\n",
            "Cost after iteration 6000: 0.174666\n",
            "Cost after iteration 7000: 0.168977\n",
            "Cost after iteration 8000: 0.164701\n",
            "Cost after iteration 9000: 0.164692\n"
          ]
        },
        {
          "output_type": "execute_result",
          "data": {
            "text/plain": [
              "Text(0.5, 1.0, 'Decision Boundary for hidden layer size 4')"
            ]
          },
          "metadata": {},
          "execution_count": 63
        },
        {
          "output_type": "display_data",
          "data": {
            "text/plain": [
              "<Figure size 640x480 with 1 Axes>"
            ],
            "image/png": "[encoded data removed]"
          },
          "metadata": {}
        }
      ]
    },
    {
      "cell_type": "code",
      "source": [
        "predictions = predict(parameters, X)\n",
        "print ('Accuracy: %d' % float((np.dot(Y, predictions.T) + np.dot(1 - Y, 1 - predictions.T)) / float(Y.size) * 100) + '%')"
      ],
      "metadata": {
        "id": "wJJ8A4qf4mA4",
        "outputId": "9db828ad-498e-4bf5-c097-9e44a35ee41a",
        "colab": {
          "base_uri": "https://localhost:8080/"
        }
      },
      "id": "wJJ8A4qf4mA4",
      "execution_count": 64,
      "outputs": [
        {
          "output_type": "stream",
          "name": "stdout",
          "text": [
            "Accuracy: 91%\n"
          ]
        }
      ]
    },
    {
      "cell_type": "markdown",
      "source": [
        "## what I learned from this project\n",
        "\n",
        "- Building L layer of nural network from scratch\n",
        "- it is just carfully building the structure of the neural network specially during initialization of the model prameter dimention and calcualting the backward propagation of each parameter and activation function.\n",
        "- the rest is a matter of writting the code by keeping the flow."
      ],
      "metadata": {
        "id": "Qf7pnz4b-DQt"
      },
      "id": "Qf7pnz4b-DQt"
    },
    {
      "cell_type": "code",
      "source": [],
      "metadata": {
        "id": "8YwSQURP-477"
      },
      "id": "8YwSQURP-477",
      "execution_count": null,
      "outputs": []
    }
  ],
  "metadata": {
    "kernelspec": {
      "display_name": "Python 3 (ipykernel)",
      "language": "python",
      "name": "python3"
    },
    "language_info": {
      "codemirror_mode": {
        "name": "ipython",
        "version": 3
      },
      "file_extension": ".py",
      "mimetype": "text/x-python",
      "name": "python",
      "nbconvert_exporter": "python",
      "pygments_lexer": "ipython3",
      "version": "3.11.4"
    },
    "colab": {
      "provenance": [],
      "include_colab_link": true
    }
  },
  "nbformat": 4,
  "nbformat_minor": 5
}