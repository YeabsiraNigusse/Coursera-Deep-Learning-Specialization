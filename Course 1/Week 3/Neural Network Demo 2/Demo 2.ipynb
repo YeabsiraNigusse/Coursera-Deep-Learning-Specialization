{
 "cells": [
  {
   "cell_type": "markdown",
   "id": "8097db51-d012-4d14-b695-21b16d42ac3e",
   "metadata": {},
   "source": [
    "# Planar data classification with Two hidden layer"
   ]
  },
  {
   "cell_type": "code",
   "execution_count": null,
   "id": "2a5cf722-0b2d-423b-aa89-bbcd4b1792de",
   "metadata": {},
   "outputs": [],
   "source": []
  }
 ],
 "metadata": {
  "kernelspec": {
   "display_name": "Python 3 (ipykernel)",
   "language": "python",
   "name": "python3"
  },
  "language_info": {
   "codemirror_mode": {
    "name": "ipython",
    "version": 3
   },
   "file_extension": ".py",
   "mimetype": "text/x-python",
   "name": "python",
   "nbconvert_exporter": "python",
   "pygments_lexer": "ipython3",
   "version": "3.11.4"
  }
 },
 "nbformat": 4,
 "nbformat_minor": 5
}
