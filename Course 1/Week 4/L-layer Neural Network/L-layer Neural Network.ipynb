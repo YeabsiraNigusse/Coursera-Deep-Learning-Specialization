{
 "cells": [
  {
   "cell_type": "markdown",
   "id": "ab1fa166-a5c8-493e-9a33-94f75dca9060",
   "metadata": {},
   "source": [
    "# Building your Deep Neural Network: Step by Step"
   ]
  }
 ],
 "metadata": {
  "kernelspec": {
   "display_name": "Python 3 (ipykernel)",
   "language": "python",
   "name": "python3"
  },
  "language_info": {
   "codemirror_mode": {
    "name": "ipython",
    "version": 3
   },
   "file_extension": ".py",
   "mimetype": "text/x-python",
   "name": "python",
   "nbconvert_exporter": "python",
   "pygments_lexer": "ipython3",
   "version": "3.11.4"
  }
 },
 "nbformat": 4,
 "nbformat_minor": 5
}
