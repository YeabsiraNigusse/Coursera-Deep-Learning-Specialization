{
  "cells": [
    {
      "cell_type": "markdown",
      "metadata": {
        "id": "view-in-github",
        "colab_type": "text"
      },
      "source": [
        "<a href=\"https://colab.research.google.com/github/YeabsiraNigusse/Coursera-Deep-Learning-Specialization/blob/main/Course%201/Week%204/Neural%20Network%20Application/Image%20Classification.ipynb\" target=\"_parent\"><img src=\"https://colab.research.google.com/assets/colab-badge.svg\" alt=\"Open In Colab\"/></a>"
      ]
    },
    {
      "cell_type": "markdown",
      "source": [
        "## Deep Neural Network for Image Classification: Application"
      ],
      "metadata": {
        "id": "9fYOOiVeZJzv"
      },
      "id": "9fYOOiVeZJzv"
    },
    {
      "cell_type": "code",
      "source": [
        "from google.colab import files\n",
        "upload = files.upload()"
      ],
      "metadata": {
        "colab": {
          "base_uri": "https://localhost:8080/",
          "height": 107
        },
        "id": "YVL8h-6pZK41",
        "outputId": "cdaeb97c-b023-471c-c0c5-e041efb88f4e"
      },
      "id": "YVL8h-6pZK41",
      "execution_count": 2,
      "outputs": [
        {
          "output_type": "display_data",
          "data": {
            "text/plain": [
              "<IPython.core.display.HTML object>"
            ],
            "text/html": [
              "\n",
              "     <input type=\"file\" id=\"files-728b1e6b-9b1a-4cc2-8365-4ca31aad38f8\" name=\"files[]\" multiple disabled\n",
              "        style=\"border:none\" />\n",
              "     <output id=\"result-728b1e6b-9b1a-4cc2-8365-4ca31aad38f8\">\n",
              "      Upload widget is only available when the cell has been executed in the\n",
              "      current browser session. Please rerun this cell to enable.\n",
              "      </output>\n",
              "      <script>// Copyright 2017 Google LLC\n",
              "//\n",
              "// Licensed under the Apache License, Version 2.0 (the \"License\");\n",
              "// you may not use this file except in compliance with the License.\n",
              "// You may obtain a copy of the License at\n",
              "//\n",
              "//      http://www.apache.org/licenses/LICENSE-2.0\n",
              "//\n",
              "// Unless required by applicable law or agreed to in writing, software\n",
              "// distributed under the License is distributed on an \"AS IS\" BASIS,\n",
              "// WITHOUT WARRANTIES OR CONDITIONS OF ANY KIND, either express or implied.\n",
              "// See the License for the specific language governing permissions and\n",
              "// limitations under the License.\n",
              "\n",
              "/**\n",
              " * @fileoverview Helpers for google.colab Python module.\n",
              " */\n",
              "(function(scope) {\n",
              "function span(text, styleAttributes = {}) {\n",
              "  const element = document.createElement('span');\n",
              "  element.textContent = text;\n",
              "  for (const key of Object.keys(styleAttributes)) {\n",
              "    element.style[key] = styleAttributes[key];\n",
              "  }\n",
              "  return element;\n",
              "}\n",
              "\n",
              "// Max number of bytes which will be uploaded at a time.\n",
              "const MAX_PAYLOAD_SIZE = 100 * 1024;\n",
              "\n",
              "function _uploadFiles(inputId, outputId) {\n",
              "  const steps = uploadFilesStep(inputId, outputId);\n",
              "  const outputElement = document.getElementById(outputId);\n",
              "  // Cache steps on the outputElement to make it available for the next call\n",
              "  // to uploadFilesContinue from Python.\n",
              "  outputElement.steps = steps;\n",
              "\n",
              "  return _uploadFilesContinue(outputId);\n",
              "}\n",
              "\n",
              "// This is roughly an async generator (not supported in the browser yet),\n",
              "// where there are multiple asynchronous steps and the Python side is going\n",
              "// to poll for completion of each step.\n",
              "// This uses a Promise to block the python side on completion of each step,\n",
              "// then passes the result of the previous step as the input to the next step.\n",
              "function _uploadFilesContinue(outputId) {\n",
              "  const outputElement = document.getElementById(outputId);\n",
              "  const steps = outputElement.steps;\n",
              "\n",
              "  const next = steps.next(outputElement.lastPromiseValue);\n",
              "  return Promise.resolve(next.value.promise).then((value) => {\n",
              "    // Cache the last promise value to make it available to the next\n",
              "    // step of the generator.\n",
              "    outputElement.lastPromiseValue = value;\n",
              "    return next.value.response;\n",
              "  });\n",
              "}\n",
              "\n",
              "/**\n",
              " * Generator function which is called between each async step of the upload\n",
              " * process.\n",
              " * @param {string} inputId Element ID of the input file picker element.\n",
              " * @param {string} outputId Element ID of the output display.\n",
              " * @return {!Iterable<!Object>} Iterable of next steps.\n",
              " */\n",
              "function* uploadFilesStep(inputId, outputId) {\n",
              "  const inputElement = document.getElementById(inputId);\n",
              "  inputElement.disabled = false;\n",
              "\n",
              "  const outputElement = document.getElementById(outputId);\n",
              "  outputElement.innerHTML = '';\n",
              "\n",
              "  const pickedPromise = new Promise((resolve) => {\n",
              "    inputElement.addEventListener('change', (e) => {\n",
              "      resolve(e.target.files);\n",
              "    });\n",
              "  });\n",
              "\n",
              "  const cancel = document.createElement('button');\n",
              "  inputElement.parentElement.appendChild(cancel);\n",
              "  cancel.textContent = 'Cancel upload';\n",
              "  const cancelPromise = new Promise((resolve) => {\n",
              "    cancel.onclick = () => {\n",
              "      resolve(null);\n",
              "    };\n",
              "  });\n",
              "\n",
              "  // Wait for the user to pick the files.\n",
              "  const files = yield {\n",
              "    promise: Promise.race([pickedPromise, cancelPromise]),\n",
              "    response: {\n",
              "      action: 'starting',\n",
              "    }\n",
              "  };\n",
              "\n",
              "  cancel.remove();\n",
              "\n",
              "  // Disable the input element since further picks are not allowed.\n",
              "  inputElement.disabled = true;\n",
              "\n",
              "  if (!files) {\n",
              "    return {\n",
              "      response: {\n",
              "        action: 'complete',\n",
              "      }\n",
              "    };\n",
              "  }\n",
              "\n",
              "  for (const file of files) {\n",
              "    const li = document.createElement('li');\n",
              "    li.append(span(file.name, {fontWeight: 'bold'}));\n",
              "    li.append(span(\n",
              "        `(${file.type || 'n/a'}) - ${file.size} bytes, ` +\n",
              "        `last modified: ${\n",
              "            file.lastModifiedDate ? file.lastModifiedDate.toLocaleDateString() :\n",
              "                                    'n/a'} - `));\n",
              "    const percent = span('0% done');\n",
              "    li.appendChild(percent);\n",
              "\n",
              "    outputElement.appendChild(li);\n",
              "\n",
              "    const fileDataPromise = new Promise((resolve) => {\n",
              "      const reader = new FileReader();\n",
              "      reader.onload = (e) => {\n",
              "        resolve(e.target.result);\n",
              "      };\n",
              "      reader.readAsArrayBuffer(file);\n",
              "    });\n",
              "    // Wait for the data to be ready.\n",
              "    let fileData = yield {\n",
              "      promise: fileDataPromise,\n",
              "      response: {\n",
              "        action: 'continue',\n",
              "      }\n",
              "    };\n",
              "\n",
              "    // Use a chunked sending to avoid message size limits. See b/62115660.\n",
              "    let position = 0;\n",
              "    do {\n",
              "      const length = Math.min(fileData.byteLength - position, MAX_PAYLOAD_SIZE);\n",
              "      const chunk = new Uint8Array(fileData, position, length);\n",
              "      position += length;\n",
              "\n",
              "      const base64 = btoa(String.fromCharCode.apply(null, chunk));\n",
              "      yield {\n",
              "        response: {\n",
              "          action: 'append',\n",
              "          file: file.name,\n",
              "          data: base64,\n",
              "        },\n",
              "      };\n",
              "\n",
              "      let percentDone = fileData.byteLength === 0 ?\n",
              "          100 :\n",
              "          Math.round((position / fileData.byteLength) * 100);\n",
              "      percent.textContent = `${percentDone}% done`;\n",
              "\n",
              "    } while (position < fileData.byteLength);\n",
              "  }\n",
              "\n",
              "  // All done.\n",
              "  yield {\n",
              "    response: {\n",
              "      action: 'complete',\n",
              "    }\n",
              "  };\n",
              "}\n",
              "\n",
              "scope.google = scope.google || {};\n",
              "scope.google.colab = scope.google.colab || {};\n",
              "scope.google.colab._files = {\n",
              "  _uploadFiles,\n",
              "  _uploadFilesContinue,\n",
              "};\n",
              "})(self);\n",
              "</script> "
            ]
          },
          "metadata": {}
        },
        {
          "output_type": "stream",
          "name": "stdout",
          "text": [
            "Saving test_catvnoncat.h5 to test_catvnoncat.h5\n",
            "Saving train_catvnoncat.h5 to train_catvnoncat.h5\n"
          ]
        }
      ]
    },
    {
      "cell_type": "code",
      "source": [
        "import time\n",
        "import numpy as np\n",
        "import h5py\n",
        "import matplotlib.pyplot as plt\n",
        "import scipy\n",
        "from PIL import Image\n",
        "from scipy import ndimage\n",
        "from dnn_app_utils_v3 import *\n",
        "from public_tests import *"
      ],
      "metadata": {
        "id": "iIPt15w2ZTBF"
      },
      "id": "iIPt15w2ZTBF",
      "execution_count": 4,
      "outputs": []
    },
    {
      "cell_type": "markdown",
      "source": [
        "## Load and Process the Dataset"
      ],
      "metadata": {
        "id": "eMrEGxdIZ4ZJ"
      },
      "id": "eMrEGxdIZ4ZJ"
    },
    {
      "cell_type": "code",
      "source": [
        "train_x_orig, train_y, test_x_orig, test_y, classes = load_data()"
      ],
      "metadata": {
        "id": "hagaTQQ5Z5Vj"
      },
      "id": "hagaTQQ5Z5Vj",
      "execution_count": 5,
      "outputs": []
    },
    {
      "cell_type": "code",
      "source": [
        "# Example of a picture\n",
        "index = 10\n",
        "plt.imshow(train_x_orig[index])\n",
        "print (\"y = \" + str(train_y[0,index]) + \". It's a \" + classes[train_y[0,index]].decode(\"utf-8\") +  \" picture.\")"
      ],
      "metadata": {
        "colab": {
          "base_uri": "https://localhost:8080/",
          "height": 449
        },
        "id": "hBW0a_QaZ8A_",
        "outputId": "3227417b-4525-44d7-c51d-73aa5176a61c"
      },
      "id": "hBW0a_QaZ8A_",
      "execution_count": 6,
      "outputs": [
        {
          "output_type": "stream",
          "name": "stdout",
          "text": [
            "y = 0. It's a non-cat picture.\n"
          ]
        },
        {
          "output_type": "display_data",
          "data": {
            "text/plain": [
              "<Figure size 640x480 with 1 Axes>"
            ],
            "image/png": "[encoded data removed]"
          },
          "metadata": {}
        }
      ]
    },
    {
      "cell_type": "code",
      "source": [
        "# Explore your dataset\n",
        "m_train = train_x_orig.shape[0]\n",
        "num_px = train_x_orig.shape[1]\n",
        "m_test = test_x_orig.shape[0]\n",
        "\n",
        "print (\"Number of training examples: \" + str(m_train))\n",
        "print (\"Number of testing examples: \" + str(m_test))\n",
        "print (\"Each image is of size: (\" + str(num_px) + \", \" + str(num_px) + \", 3)\")\n",
        "print (\"train_x_orig shape: \" + str(train_x_orig.shape))\n",
        "print (\"train_y shape: \" + str(train_y.shape))\n",
        "print (\"test_x_orig shape: \" + str(test_x_orig.shape))\n",
        "print (\"test_y shape: \" + str(test_y.shape))"
      ],
      "metadata": {
        "colab": {
          "base_uri": "https://localhost:8080/"
        },
        "id": "nXfk1gUGaB9u",
        "outputId": "9fcb63ec-a6aa-440f-b303-e7730b72b0d0"
      },
      "id": "nXfk1gUGaB9u",
      "execution_count": 7,
      "outputs": [
        {
          "output_type": "stream",
          "name": "stdout",
          "text": [
            "Number of training examples: 209\n",
            "Number of testing examples: 50\n",
            "Each image is of size: (64, 64, 3)\n",
            "train_x_orig shape: (209, 64, 64, 3)\n",
            "train_y shape: (1, 209)\n",
            "test_x_orig shape: (50, 64, 64, 3)\n",
            "test_y shape: (1, 50)\n"
          ]
        }
      ]
    },
    {
      "cell_type": "code",
      "source": [
        "# Reshape the training and test examples\n",
        "train_x_flatten = train_x_orig.reshape(train_x_orig.shape[0], -1).T   # The \"-1\" makes reshape flatten the remaining dimensions\n",
        "test_x_flatten = test_x_orig.reshape(test_x_orig.shape[0], -1).T\n",
        "\n",
        "# Standardize data to have feature values between 0 and 1.\n",
        "train_x = train_x_flatten/255.\n",
        "test_x = test_x_flatten/255.\n",
        "\n",
        "print (\"train_x's shape: \" + str(train_x.shape))\n",
        "print (\"test_x's shape: \" + str(test_x.shape))"
      ],
      "metadata": {
        "colab": {
          "base_uri": "https://localhost:8080/"
        },
        "id": "2mCJ4jaCaRSA",
        "outputId": "338c4d14-22f8-4fd0-d57e-d9cd3c43aa62"
      },
      "id": "2mCJ4jaCaRSA",
      "execution_count": 8,
      "outputs": [
        {
          "output_type": "stream",
          "name": "stdout",
          "text": [
            "train_x's shape: (12288, 209)\n",
            "test_x's shape: (12288, 50)\n"
          ]
        }
      ]
    },
    {
      "cell_type": "markdown",
      "source": [
        "### Model Architecture\n",
        "\n",
        "#### 2-layer Neural Network"
      ],
      "metadata": {
        "id": "R11hsTfOaWsm"
      },
      "id": "R11hsTfOaWsm"
    },
    {
      "cell_type": "code",
      "source": [
        "### CONSTANTS DEFINING THE MODEL ####\n",
        "n_x = 12288     # num_px * num_px * 3\n",
        "n_h = 7\n",
        "n_y = 1\n",
        "layers_dims = (n_x, n_h, n_y)\n",
        "learning_rate = 0.0075"
      ],
      "metadata": {
        "id": "vlWWBXVtaXhx"
      },
      "id": "vlWWBXVtaXhx",
      "execution_count": 9,
      "outputs": []
    },
    {
      "cell_type": "code",
      "source": [
        "# GRADED FUNCTION: two_layer_model\n",
        "\n",
        "def two_layer_model(X, Y, layers_dims, learning_rate = 0.0075, num_iterations = 3000, print_cost=False):\n",
        "    \"\"\"\n",
        "    Implements a two-layer neural network: LINEAR->RELU->LINEAR->SIGMOID.\n",
        "\n",
        "    Arguments:\n",
        "    X -- input data, of shape (n_x, number of examples)\n",
        "    Y -- true \"label\" vector (containing 1 if cat, 0 if non-cat), of shape (1, number of examples)\n",
        "    layers_dims -- dimensions of the layers (n_x, n_h, n_y)\n",
        "    num_iterations -- number of iterations of the optimization loop\n",
        "    learning_rate -- learning rate of the gradient descent update rule\n",
        "    print_cost -- If set to True, this will print the cost every 100 iterations\n",
        "\n",
        "    Returns:\n",
        "    parameters -- a dictionary containing W1, W2, b1, and b2\n",
        "    \"\"\"\n",
        "\n",
        "    np.random.seed(1)\n",
        "    grads = {}\n",
        "    costs = []                              # to keep track of the cost\n",
        "    m = X.shape[1]                           # number of examples\n",
        "    (n_x, n_h, n_y) = layers_dims\n",
        "\n",
        "    # Initialize parameters dictionary, by calling one of the functions you'd previously implemented\n",
        "    #(≈ 1 line of code)\n",
        "    # parameters = ...\n",
        "    # YOUR CODE STARTS HERE\n",
        "    parameters = initialize_parameters(n_x, n_h, n_y)\n",
        "\n",
        "    # YOUR CODE ENDS HERE\n",
        "\n",
        "    # Get W1, b1, W2 and b2 from the dictionary parameters.\n",
        "    W1 = parameters[\"W1\"]\n",
        "    b1 = parameters[\"b1\"]\n",
        "    W2 = parameters[\"W2\"]\n",
        "    b2 = parameters[\"b2\"]\n",
        "\n",
        "    # Loop (gradient descent)\n",
        "\n",
        "    for i in range(0, num_iterations):\n",
        "\n",
        "        # Forward propagation: LINEAR -> RELU -> LINEAR -> SIGMOID. Inputs: \"X, W1, b1, W2, b2\". Output: \"A1, cache1, A2, cache2\".\n",
        "        #(≈ 2 lines of code)\n",
        "        # A1, cache1 = ...\n",
        "        # A2, cache2 = ...\n",
        "        # YOUR CODE STARTS HERE\n",
        "        A1, cache1 = linear_activation_forward(X, W1, b1, \"relu\")  # You need to implement linear_activation_forward\n",
        "        A2, cache2 = linear_activation_forward(A1, W2, b2, \"sigmoid\")\n",
        "\n",
        "        # YOUR CODE ENDS HERE\n",
        "\n",
        "        # Compute cost\n",
        "        #(≈ 1 line of code)\n",
        "        # cost = ...\n",
        "        # YOUR CODE STARTS HERE\n",
        "        cost = compute_cost(A2, Y)\n",
        "\n",
        "        # YOUR CODE ENDS HERE\n",
        "\n",
        "        # Initializing backward propagation\n",
        "        dA2 = - (np.divide(Y, A2) - np.divide(1 - Y, 1 - A2))\n",
        "\n",
        "        # Backward propagation. Inputs: \"dA2, cache2, cache1\". Outputs: \"dA1, dW2, db2; also dA0 (not used), dW1, db1\".\n",
        "        #(≈ 2 lines of code)\n",
        "        # dA1, dW2, db2 = ...\n",
        "        # dA0, dW1, db1 = ...\n",
        "        # YOUR CODE STARTS HERE\n",
        "        dA1, dW2, db2 = linear_activation_backward(dA2, cache2, \"sigmoid\")  # You need to implement linear_activation_backward\n",
        "        dA0, dW1, db1 = linear_activation_backward(dA1, cache1, \"relu\")  # You need to implement linear_activation_backward\n",
        "\n",
        "        # YOUR CODE ENDS HERE\n",
        "\n",
        "        # Set grads['dWl'] to dW1, grads['db1'] to db1, grads['dW2'] to dW2, grads['db2'] to db2\n",
        "        grads['dW1'] = dW1\n",
        "        grads['db1'] = db1\n",
        "        grads['dW2'] = dW2\n",
        "        grads['db2'] = db2\n",
        "\n",
        "        # Update parameters.\n",
        "        #(approx. 1 line of code)\n",
        "        # parameters = ...\n",
        "        # YOUR CODE STARTS HERE\n",
        "        parameters = update_parameters(parameters, grads, learning_rate)\n",
        "\n",
        "        # YOUR CODE ENDS HERE\n",
        "\n",
        "        # Retrieve W1, b1, W2, b2 from parameters\n",
        "        W1 = parameters[\"W1\"]\n",
        "        b1 = parameters[\"b1\"]\n",
        "        W2 = parameters[\"W2\"]\n",
        "        b2 = parameters[\"b2\"]\n",
        "\n",
        "        # Print the cost every 100 iterations\n",
        "        if print_cost and i % 100 == 0 or i == num_iterations - 1:\n",
        "            print(\"Cost after iteration {}: {}\".format(i, np.squeeze(cost)))\n",
        "        if i % 100 == 0 or i == num_iterations:\n",
        "            costs.append(cost)\n",
        "\n",
        "    return parameters, costs\n",
        "\n",
        "def plot_costs(costs, learning_rate=0.0075):\n",
        "    plt.plot(np.squeeze(costs))\n",
        "    plt.ylabel('cost')\n",
        "    plt.xlabel('iterations (per hundreds)')\n",
        "    plt.title(\"Learning rate =\" + str(learning_rate))\n",
        "    plt.show()"
      ],
      "metadata": {
        "id": "7jZYt5Hsbd0M"
      },
      "id": "7jZYt5Hsbd0M",
      "execution_count": 10,
      "outputs": []
    },
    {
      "cell_type": "code",
      "source": [
        "parameters, costs = two_layer_model(train_x, train_y, layers_dims = (n_x, n_h, n_y), num_iterations = 2, print_cost=False)\n",
        "\n",
        "print(\"Cost after first iteration: \" + str(costs[0]))\n",
        "\n",
        "two_layer_model_test(two_layer_model)"
      ],
      "metadata": {
        "colab": {
          "base_uri": "https://localhost:8080/"
        },
        "id": "vT2uwt6qbiDh",
        "outputId": "e15391b5-185b-49b1-a2a0-93abaa9ff210"
      },
      "id": "vT2uwt6qbiDh",
      "execution_count": 11,
      "outputs": [
        {
          "output_type": "stream",
          "name": "stdout",
          "text": [
            "Cost after iteration 1: 0.6926114346158595\n",
            "Cost after first iteration: 0.693049735659989\n",
            "Cost after iteration 1: 0.6915746967050506\n",
            "Cost after iteration 1: 0.6915746967050506\n",
            "Cost after iteration 1: 0.6915746967050506\n",
            "Cost after iteration 2: 0.6524135179683452\n",
            "\u001b[92m All tests passed.\n"
          ]
        }
      ]
    },
    {
      "cell_type": "code",
      "source": [
        "parameters, costs = two_layer_model(train_x, train_y, layers_dims = (n_x, n_h, n_y), num_iterations = 2500, print_cost=True)\n",
        "plot_costs(costs, learning_rate)"
      ],
      "metadata": {
        "colab": {
          "base_uri": "https://localhost:8080/",
          "height": 923
        },
        "id": "3VSiIUDGblaJ",
        "outputId": "79100707-fec0-4857-b373-dbe9732bac8f"
      },
      "id": "3VSiIUDGblaJ",
      "execution_count": 12,
      "outputs": [
        {
          "output_type": "stream",
          "name": "stdout",
          "text": [
            "Cost after iteration 0: 0.693049735659989\n",
            "Cost after iteration 100: 0.6464320953428849\n",
            "Cost after iteration 200: 0.6325140647912678\n",
            "Cost after iteration 300: 0.6015024920354665\n",
            "Cost after iteration 400: 0.5601966311605748\n",
            "Cost after iteration 500: 0.515830477276473\n",
            "Cost after iteration 600: 0.4754901313943325\n",
            "Cost after iteration 700: 0.433916315122575\n",
            "Cost after iteration 800: 0.4007977536203886\n",
            "Cost after iteration 900: 0.3580705011323798\n",
            "Cost after iteration 1000: 0.3394281538366413\n",
            "Cost after iteration 1100: 0.3052753636196265\n",
            "Cost after iteration 1200: 0.2749137728213016\n",
            "Cost after iteration 1300: 0.24681768210614854\n",
            "Cost after iteration 1400: 0.19850735037466116\n",
            "Cost after iteration 1500: 0.1744831811255665\n",
            "Cost after iteration 1600: 0.17080762978096659\n",
            "Cost after iteration 1700: 0.11306524562164712\n",
            "Cost after iteration 1800: 0.09629426845937149\n",
            "Cost after iteration 1900: 0.08342617959726863\n",
            "Cost after iteration 2000: 0.07439078704319083\n",
            "Cost after iteration 2100: 0.06630748132267933\n",
            "Cost after iteration 2200: 0.05919329501038169\n",
            "Cost after iteration 2300: 0.05336140348560555\n",
            "Cost after iteration 2400: 0.04855478562877017\n",
            "Cost after iteration 2499: 0.044214982158689575\n"
          ]
        },
        {
          "output_type": "display_data",
          "data": {
            "text/plain": [
              "<Figure size 640x480 with 1 Axes>"
            ],
            "image/png": "[encoded data removed]"
          },
          "metadata": {}
        }
      ]
    },
    {
      "cell_type": "markdown",
      "source": [
        "## L-layer Neural Network"
      ],
      "metadata": {
        "id": "ORjE9nRxcAxW"
      },
      "id": "ORjE9nRxcAxW"
    },
    {
      "cell_type": "code",
      "source": [
        "### CONSTANTS ###\n",
        "layers_dims = [12288, 20, 7, 5, 1] #  4-layer model"
      ],
      "metadata": {
        "id": "IXbRzVD-bryW"
      },
      "id": "IXbRzVD-bryW",
      "execution_count": 13,
      "outputs": []
    },
    {
      "cell_type": "code",
      "source": [
        "# GRADED FUNCTION: L_layer_model\n",
        "\n",
        "def L_layer_model(X, Y, layers_dims, learning_rate = 0.0075, num_iterations = 3000, print_cost=False):\n",
        "    \"\"\"\n",
        "    Implements a L-layer neural network: [LINEAR->RELU]*(L-1)->LINEAR->SIGMOID.\n",
        "\n",
        "    Arguments:\n",
        "    X -- input data, of shape (n_x, number of examples)\n",
        "    Y -- true \"label\" vector (containing 1 if cat, 0 if non-cat), of shape (1, number of examples)\n",
        "    layers_dims -- list containing the input size and each layer size, of length (number of layers + 1).\n",
        "    learning_rate -- learning rate of the gradient descent update rule\n",
        "    num_iterations -- number of iterations of the optimization loop\n",
        "    print_cost -- if True, it prints the cost every 100 steps\n",
        "\n",
        "    Returns:\n",
        "    parameters -- parameters learnt by the model. They can then be used to predict.\n",
        "    \"\"\"\n",
        "\n",
        "    np.random.seed(1)\n",
        "    costs = []                         # keep track of cost\n",
        "\n",
        "    # Parameters initialization.\n",
        "    #(≈ 1 line of code)\n",
        "    # parameters = ...\n",
        "    # YOUR CODE STARTS HERE\n",
        "    parameters = initialize_parameters_deep(layers_dims)\n",
        "\n",
        "    # YOUR CODE ENDS HERE\n",
        "\n",
        "    # Loop (gradient descent)\n",
        "    for i in range(0, num_iterations):\n",
        "\n",
        "        # Forward propagation: [LINEAR -> RELU]*(L-1) -> LINEAR -> SIGMOID.\n",
        "        #(≈ 1 line of code)\n",
        "        # AL, caches = ...\n",
        "        # YOUR CODE STARTS HERE\n",
        "        AL, caches = L_model_forward(X, parameters)\n",
        "\n",
        "        # YOUR CODE ENDS HERE\n",
        "\n",
        "        # Compute cost.\n",
        "        #(≈ 1 line of code)\n",
        "        # cost = ...\n",
        "        # YOUR CODE STARTS HERE\n",
        "        cost = compute_cost(AL, Y)\n",
        "\n",
        "        # YOUR CODE ENDS HERE\n",
        "\n",
        "        # Backward propagation.\n",
        "        #(≈ 1 line of code)\n",
        "        # grads = ...\n",
        "        # YOUR CODE STARTS HERE\n",
        "        grads = L_model_backward(AL, Y, caches)\n",
        "\n",
        "        # YOUR CODE ENDS HERE\n",
        "\n",
        "        # Update parameters.\n",
        "        #(≈ 1 line of code)\n",
        "        # parameters = ...\n",
        "        # YOUR CODE STARTS HERE\n",
        "        parameters = update_parameters(parameters, grads, learning_rate)\n",
        "\n",
        "        # YOUR CODE ENDS HERE\n",
        "\n",
        "        # Print the cost every 100 iterations\n",
        "        if print_cost and i % 100 == 0 or i == num_iterations - 1:\n",
        "            print(\"Cost after iteration {}: {}\".format(i, np.squeeze(cost)))\n",
        "        if i % 100 == 0 or i == num_iterations:\n",
        "            costs.append(cost)\n",
        "\n",
        "    return parameters, costs"
      ],
      "metadata": {
        "id": "X3C7mh71cEqw"
      },
      "id": "X3C7mh71cEqw",
      "execution_count": 14,
      "outputs": []
    },
    {
      "cell_type": "code",
      "source": [
        "parameters, costs = L_layer_model(train_x, train_y, layers_dims, num_iterations = 1, print_cost = False)\n",
        "\n",
        "print(\"Cost after first iteration: \" + str(costs[0]))\n",
        "\n",
        "L_layer_model_test(L_layer_model)"
      ],
      "metadata": {
        "colab": {
          "base_uri": "https://localhost:8080/"
        },
        "id": "FGBmpWCzcOPz",
        "outputId": "164b4f4d-78c3-4793-c734-460ee48e4352"
      },
      "id": "FGBmpWCzcOPz",
      "execution_count": 15,
      "outputs": [
        {
          "output_type": "stream",
          "name": "stdout",
          "text": [
            "Cost after iteration 0: 0.7717493284237686\n",
            "Cost after first iteration: 0.7717493284237686\n",
            "Cost after iteration 1: 0.7070709008912569\n",
            "Cost after iteration 1: 0.7070709008912569\n",
            "Cost after iteration 1: 0.7070709008912569\n",
            "Cost after iteration 2: 0.7063462654190897\n",
            "\u001b[92m All tests passed.\n"
          ]
        }
      ]
    },
    {
      "cell_type": "code",
      "source": [
        "parameters, costs = L_layer_model(train_x, train_y, layers_dims, num_iterations = 2500, print_cost = True)"
      ],
      "metadata": {
        "colab": {
          "base_uri": "https://localhost:8080/"
        },
        "id": "RtZigiSLcOxo",
        "outputId": "235644a9-81e1-4da6-fe72-b10176b5d424"
      },
      "id": "RtZigiSLcOxo",
      "execution_count": 16,
      "outputs": [
        {
          "output_type": "stream",
          "name": "stdout",
          "text": [
            "Cost after iteration 0: 0.7717493284237686\n",
            "Cost after iteration 100: 0.6720534400822914\n",
            "Cost after iteration 200: 0.6482632048575212\n",
            "Cost after iteration 300: 0.6115068816101354\n",
            "Cost after iteration 400: 0.5670473268366112\n",
            "Cost after iteration 500: 0.5401376634547801\n",
            "Cost after iteration 600: 0.5279299569455267\n",
            "Cost after iteration 700: 0.46547737717668514\n",
            "Cost after iteration 800: 0.369125852495928\n",
            "Cost after iteration 900: 0.39174697434805344\n",
            "Cost after iteration 1000: 0.3151869888600617\n",
            "Cost after iteration 1100: 0.2726998441789385\n",
            "Cost after iteration 1200: 0.23741853400268137\n",
            "Cost after iteration 1300: 0.19960120532208647\n",
            "Cost after iteration 1400: 0.18926300388463305\n",
            "Cost after iteration 1500: 0.1611885466582775\n",
            "Cost after iteration 1600: 0.14821389662363316\n",
            "Cost after iteration 1700: 0.13777487812972944\n",
            "Cost after iteration 1800: 0.12974017549190123\n",
            "Cost after iteration 1900: 0.12122535068005211\n",
            "Cost after iteration 2000: 0.11382060668633713\n",
            "Cost after iteration 2100: 0.10783928526254133\n",
            "Cost after iteration 2200: 0.10285466069352683\n",
            "Cost after iteration 2300: 0.10089745445261787\n",
            "Cost after iteration 2400: 0.09287821526472397\n",
            "Cost after iteration 2499: 0.088439943441702\n"
          ]
        }
      ]
    },
    {
      "cell_type": "markdown",
      "source": [
        "### Train the model"
      ],
      "metadata": {
        "id": "mxBXaIk7c4Xv"
      },
      "id": "mxBXaIk7c4Xv"
    },
    {
      "cell_type": "code",
      "source": [
        "parameters, costs = L_layer_model(train_x, train_y, layers_dims, num_iterations = 2500, print_cost = True)"
      ],
      "metadata": {
        "colab": {
          "base_uri": "https://localhost:8080/"
        },
        "id": "Mbjy9YBBcSFU",
        "outputId": "ec462466-51fe-492e-d970-5ed0821b6179"
      },
      "id": "Mbjy9YBBcSFU",
      "execution_count": 17,
      "outputs": [
        {
          "output_type": "stream",
          "name": "stdout",
          "text": [
            "Cost after iteration 0: 0.7717493284237686\n",
            "Cost after iteration 100: 0.6720534400822914\n",
            "Cost after iteration 200: 0.6482632048575212\n",
            "Cost after iteration 300: 0.6115068816101354\n",
            "Cost after iteration 400: 0.5670473268366112\n",
            "Cost after iteration 500: 0.5401376634547801\n",
            "Cost after iteration 600: 0.5279299569455267\n",
            "Cost after iteration 700: 0.46547737717668514\n",
            "Cost after iteration 800: 0.369125852495928\n",
            "Cost after iteration 900: 0.39174697434805344\n",
            "Cost after iteration 1000: 0.3151869888600617\n",
            "Cost after iteration 1100: 0.2726998441789385\n",
            "Cost after iteration 1200: 0.23741853400268137\n",
            "Cost after iteration 1300: 0.19960120532208647\n",
            "Cost after iteration 1400: 0.18926300388463305\n",
            "Cost after iteration 1500: 0.1611885466582775\n",
            "Cost after iteration 1600: 0.14821389662363316\n",
            "Cost after iteration 1700: 0.13777487812972944\n",
            "Cost after iteration 1800: 0.12974017549190123\n",
            "Cost after iteration 1900: 0.12122535068005211\n",
            "Cost after iteration 2000: 0.11382060668633713\n",
            "Cost after iteration 2100: 0.10783928526254133\n",
            "Cost after iteration 2200: 0.10285466069352683\n",
            "Cost after iteration 2300: 0.10089745445261787\n",
            "Cost after iteration 2400: 0.09287821526472397\n",
            "Cost after iteration 2499: 0.088439943441702\n"
          ]
        }
      ]
    },
    {
      "cell_type": "code",
      "source": [],
      "metadata": {
        "id": "2X8Rcy-Zc9W-"
      },
      "id": "2X8Rcy-Zc9W-",
      "execution_count": null,
      "outputs": []
    }
  ],
  "metadata": {
    "colab": {
      "provenance": [],
      "include_colab_link": true
    },
    "language_info": {
      "name": "python"
    },
    "kernelspec": {
      "name": "python3",
      "display_name": "Python 3"
    }
  },
  "nbformat": 4,
  "nbformat_minor": 5
}