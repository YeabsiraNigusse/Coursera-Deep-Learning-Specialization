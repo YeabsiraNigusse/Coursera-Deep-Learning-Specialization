{
  "cells": [
    {
      "cell_type": "markdown",
      "metadata": {
        "id": "view-in-github",
        "colab_type": "text"
      },
      "source": [
        "<a href=\"https://colab.research.google.com/github/YeabsiraNigusse/Deep_Learning/blob/main/Deep%20Learning%20Notes/Deep%20Learning%20Notes.ipynb\" target=\"_parent\"><img src=\"https://colab.research.google.com/assets/colab-badge.svg\" alt=\"Open In Colab\"/></a>"
      ]
    },
    {
      "cell_type": "markdown",
      "source": [
        "### Deep Learning Notes"
      ],
      "metadata": {
        "id": "2JwI9MqOVGG8"
      },
      "id": "2JwI9MqOVGG8"
    },
    {
      "cell_type": "markdown",
      "source": [
        "#### soft max function\n",
        "\n",
        "it is a function used to calculate the class probability of a given input.\n",
        "\n",
        "for example if i have a model that classifies spar or not spam and if the model give me row score(number) for each class(spam or not spam) then soft max calculate the given number and give me the probability distrbution for each class"
      ],
      "metadata": {
        "id": "EDbBYIaLtd_i"
      },
      "id": "EDbBYIaLtd_i"
    },
    {
      "cell_type": "markdown",
      "source": [
        "<font color='blue'>\n",
        "<b>What i need to remember:</b>\n",
        "    \n",
        "- np.exp(x) works for any np.array x and applies the exponential function to every coordinate. better than math.exp() which needs nested for loop\n",
        "- the sigmoid function and its gradient: i can use numpy `np.exp(0)` to calculate sigmoid and its gradient for single number or martrics or an array of numpy with brodcasting(meaning for each element with out using nested loop)\n",
        "- image2vector is commonly used in deep learning: i can use `np.reshape(v.shape[0]*v.shape[1], 1)` to covert 2D into 1D\n",
        "- numpy has efficient built-in functions like the above ones\n",
        "- broadcasting is extremely useful"
      ],
      "metadata": {
        "id": "2uv4WVKcuvtZ"
      },
      "id": "2uv4WVKcuvtZ"
    },
    {
      "cell_type": "code",
      "source": [],
      "metadata": {
        "id": "TwmyubSwVJnR"
      },
      "id": "TwmyubSwVJnR",
      "execution_count": null,
      "outputs": []
    }
  ],
  "metadata": {
    "colab": {
      "provenance": [],
      "include_colab_link": true
    }
  },
  "nbformat": 4,
  "nbformat_minor": 5
}
