{
 "cells": [
  {
   "cell_type": "markdown",
   "id": "7723c054-bbaa-4b33-9d8d-ba1f8323862d",
   "metadata": {},
   "source": [
    "### Deep Learning Notes"
   ]
  },
  {
   "cell_type": "code",
   "execution_count": null,
   "id": "17a62f80-bb9a-4425-ac6a-fb58d51a2059",
   "metadata": {},
   "outputs": [],
   "source": []
  }
 ],
 "metadata": {
  "kernelspec": {
   "display_name": "Python 3 (ipykernel)",
   "language": "python",
   "name": "python3"
  },
  "language_info": {
   "codemirror_mode": {
    "name": "ipython",
    "version": 3
   },
   "file_extension": ".py",
   "mimetype": "text/x-python",
   "name": "python",
   "nbconvert_exporter": "python",
   "pygments_lexer": "ipython3",
   "version": "3.11.4"
  }
 },
 "nbformat": 4,
 "nbformat_minor": 5
}
